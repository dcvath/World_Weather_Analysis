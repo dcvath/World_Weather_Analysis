{
 "cells": [
  {
   "cell_type": "code",
   "execution_count": 4,
   "id": "d784f88d",
   "metadata": {},
   "outputs": [],
   "source": [
    "# Import the random module.\n",
    "import random"
   ]
  },
  {
   "cell_type": "code",
   "execution_count": 7,
   "id": "b5d0eb27",
   "metadata": {},
   "outputs": [
    {
     "data": {
      "text/plain": [
       "75.16172189861291"
      ]
     },
     "execution_count": 7,
     "metadata": {},
     "output_type": "execute_result"
    }
   ],
   "source": [
    "random_number = random.randint(-90, 89) + random.random()\n",
    "random_number"
   ]
  },
  {
   "cell_type": "code",
   "execution_count": 9,
   "id": "11a7b4a5",
   "metadata": {},
   "outputs": [
    {
     "data": {
      "text/plain": [
       "[36.135269654795756,\n",
       " 39.31482393724671,\n",
       " -69.66326018348873,\n",
       " -83.74624417460734,\n",
       " 55.13552232765445,\n",
       " 19.089692684581603,\n",
       " 40.84772246786296,\n",
       " -59.26693428905898,\n",
       " 47.494420647176035,\n",
       " -81.18200063117168]"
      ]
     },
     "execution_count": 9,
     "metadata": {},
     "output_type": "execute_result"
    }
   ],
   "source": [
    "x = 1\n",
    "latitudes = []\n",
    "while x < 11:\n",
    "    random_lat = random.randint(-90, 89) + random.random()\n",
    "    latitudes.append(random_lat)\n",
    "    x += 1\n",
    "latitudes"
   ]
  },
  {
   "cell_type": "code",
   "execution_count": 10,
   "id": "5218174a",
   "metadata": {},
   "outputs": [
    {
     "data": {
      "text/plain": [
       "4"
      ]
     },
     "execution_count": 10,
     "metadata": {},
     "output_type": "execute_result"
    }
   ],
   "source": [
    "random.randrange(-90, 90, step=1)"
   ]
  },
  {
   "cell_type": "code",
   "execution_count": 11,
   "id": "8bf6e8c1",
   "metadata": {},
   "outputs": [
    {
     "data": {
      "text/plain": [
       "51"
      ]
     },
     "execution_count": 11,
     "metadata": {},
     "output_type": "execute_result"
    }
   ],
   "source": [
    "random.randrange(-90, 90, step=3)"
   ]
  },
  {
   "cell_type": "code",
   "execution_count": 12,
   "id": "19b3a8cf",
   "metadata": {},
   "outputs": [
    {
     "data": {
      "text/plain": [
       "-36.04022236865936"
      ]
     },
     "execution_count": 12,
     "metadata": {},
     "output_type": "execute_result"
    }
   ],
   "source": [
    "random.uniform(-90, 90)"
   ]
  },
  {
   "cell_type": "code",
   "execution_count": 13,
   "id": "6f3f6148",
   "metadata": {},
   "outputs": [],
   "source": [
    "# Import the NumPy module.\n",
    "import numpy as np"
   ]
  },
  {
   "cell_type": "code",
   "execution_count": 15,
   "id": "72e301ad",
   "metadata": {},
   "outputs": [
    {
     "data": {
      "text/plain": [
       "array([-85.22008178,  61.18474481, -17.94803885,  -6.43567417,\n",
       "       -10.26739901,  30.70433494,  79.87814826, -32.63964981,\n",
       "       -51.01610692, -63.04580814,  57.02594179, -71.91300733,\n",
       "       -67.32557152,  89.51157878, -61.78043296, -77.12415956,\n",
       "        63.05670771,  10.82950282, -82.15243703, -82.78903001,\n",
       "         4.1390403 , -83.1057487 , -67.41535045, -84.95134112,\n",
       "       -30.26079701, -12.29072772,  56.38002932, -78.78800796,\n",
       "       -67.86517823,  40.6092253 , -22.05706737, -66.86637951,\n",
       "       -67.70749797,  57.81499546, -89.17014401, -83.48963597,\n",
       "         8.34913472,  23.73287634, -55.6740265 , -23.65056262,\n",
       "        57.16285259, -89.54638634,   0.96716105,  88.60703384,\n",
       "       -30.9017586 , -83.17072458,  45.31262594, -18.91648841,\n",
       "        10.24209426, -72.13888793])"
      ]
     },
     "execution_count": 15,
     "metadata": {},
     "output_type": "execute_result"
    }
   ],
   "source": [
    "np.random.uniform(-90.000, 90.000, size=50)"
   ]
  },
  {
   "cell_type": "code",
   "execution_count": 16,
   "id": "c0872988",
   "metadata": {},
   "outputs": [],
   "source": [
    "# Import timeit.\n",
    "import timeit"
   ]
  },
  {
   "cell_type": "code",
   "execution_count": 17,
   "id": "e9eb31ed",
   "metadata": {},
   "outputs": [
    {
     "name": "stdout",
     "output_type": "stream",
     "text": [
      "39.9 µs ± 5.55 µs per loop (mean ± std. dev. of 7 runs, 10000 loops each)\n"
     ]
    }
   ],
   "source": [
    "%timeit np.random.uniform(-90.000, 90.000, size=1500)"
   ]
  },
  {
   "cell_type": "code",
   "execution_count": 18,
   "id": "d260828c",
   "metadata": {},
   "outputs": [
    {
     "name": "stdout",
     "output_type": "stream",
     "text": [
      "5.51 ms ± 509 µs per loop (mean ± std. dev. of 7 runs, 100 loops each)\n"
     ]
    }
   ],
   "source": [
    "def latitudes(size):\n",
    "    latitudes = []\n",
    "    x = 0\n",
    "    while x < (size):\n",
    "        random_lat = random.randint(-90, 90) + random.random()\n",
    "        latitudes.append(random_lat)\n",
    "        x += 1\n",
    "    return latitudes\n",
    "# Call the function with 1500.\n",
    "%timeit latitudes(1500)"
   ]
  },
  {
   "cell_type": "code",
   "execution_count": null,
   "id": "9c302b50",
   "metadata": {},
   "outputs": [],
   "source": []
  }
 ],
 "metadata": {
  "kernelspec": {
   "display_name": "PythonData",
   "language": "python",
   "name": "pythondata"
  },
  "language_info": {
   "codemirror_mode": {
    "name": "ipython",
    "version": 3
   },
   "file_extension": ".py",
   "mimetype": "text/x-python",
   "name": "python",
   "nbconvert_exporter": "python",
   "pygments_lexer": "ipython3",
   "version": "3.7.10"
  }
 },
 "nbformat": 4,
 "nbformat_minor": 5
}
